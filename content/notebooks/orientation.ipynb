{
 "cells": [
  {
   "cell_type": "code",
   "execution_count": null,
   "id": "d55c5d5e",
   "metadata": {},
   "outputs": [],
   "source": [
    "import sympy as sm"
   ]
  },
  {
   "cell_type": "code",
   "execution_count": null,
   "id": "66048388",
   "metadata": {},
   "outputs": [],
   "source": [
    "sm.init_printing()"
   ]
  },
  {
   "cell_type": "code",
   "execution_count": null,
   "id": "bd378c05",
   "metadata": {},
   "outputs": [],
   "source": [
    "theta, alpha = sm.symbols('theta, alpha')"
   ]
  },
  {
   "cell_type": "code",
   "execution_count": null,
   "id": "d65ed7d0",
   "metadata": {},
   "outputs": [],
   "source": [
    "B_C_A = sm.Matrix([[sm.cos(theta), sm.sin(theta), 0],\n",
    "                   [-sm.sin(theta), sm.cos(theta), 0],\n",
    "                   [0, 0, 1]])\n",
    "B_C_A"
   ]
  },
  {
   "cell_type": "code",
   "execution_count": null,
   "id": "f0fb297f",
   "metadata": {},
   "outputs": [],
   "source": [
    "C_C_B = sm.Matrix([[1, 0, 0],\n",
    "                   [0, sm.cos(alpha), sm.sin(alpha)],\n",
    "                   [0, -sm.sin(alpha), sm.cos(alpha)]])\n",
    "C_C_B"
   ]
  },
  {
   "cell_type": "code",
   "execution_count": null,
   "id": "0bd92793",
   "metadata": {},
   "outputs": [],
   "source": [
    "C_C_A = C_C_B * B_C_A\n",
    "C_C_A"
   ]
  },
  {
   "cell_type": "markdown",
   "id": "c77a7ca2",
   "metadata": {},
   "source": [
    "# SymPy Mechanics Orientation"
   ]
  },
  {
   "cell_type": "code",
   "execution_count": null,
   "id": "08f322f0",
   "metadata": {},
   "outputs": [],
   "source": [
    "import sympy.physics.mechanics as me"
   ]
  },
  {
   "cell_type": "code",
   "execution_count": null,
   "id": "aeba5115",
   "metadata": {},
   "outputs": [],
   "source": [
    "A = me.ReferenceFrame('A')\n",
    "B = me.ReferenceFrame('B')\n",
    "C = me.ReferenceFrame('C')"
   ]
  },
  {
   "cell_type": "code",
   "execution_count": null,
   "id": "5341f76b",
   "metadata": {},
   "outputs": [],
   "source": [
    "B.orient_axis(A, theta, A.z)"
   ]
  },
  {
   "cell_type": "code",
   "execution_count": null,
   "id": "489f0e31",
   "metadata": {},
   "outputs": [],
   "source": [
    "A.x"
   ]
  },
  {
   "cell_type": "code",
   "execution_count": null,
   "id": "b398bacd",
   "metadata": {},
   "outputs": [],
   "source": [
    "A.y"
   ]
  },
  {
   "cell_type": "code",
   "execution_count": null,
   "id": "a11dfc9b",
   "metadata": {},
   "outputs": [],
   "source": [
    "A.z"
   ]
  },
  {
   "cell_type": "code",
   "execution_count": null,
   "id": "2ec9a238",
   "metadata": {},
   "outputs": [],
   "source": [
    "B.dcm(A)"
   ]
  },
  {
   "cell_type": "code",
   "execution_count": null,
   "id": "150c0995",
   "metadata": {},
   "outputs": [],
   "source": [
    "C.orient_axis(B, alpha, B.x)"
   ]
  },
  {
   "cell_type": "code",
   "execution_count": null,
   "id": "7ac60020",
   "metadata": {},
   "outputs": [],
   "source": [
    "C.dcm(B)"
   ]
  },
  {
   "cell_type": "code",
   "execution_count": null,
   "id": "4e70a97f",
   "metadata": {},
   "outputs": [],
   "source": [
    "C.dcm(A)"
   ]
  },
  {
   "cell_type": "markdown",
   "id": "208573c0",
   "metadata": {},
   "source": [
    "# Euler Z-X-Z"
   ]
  },
  {
   "cell_type": "code",
   "execution_count": null,
   "id": "fec299a6",
   "metadata": {},
   "outputs": [],
   "source": [
    "A = me.ReferenceFrame('A')\n",
    "C = me.ReferenceFrame('C')"
   ]
  },
  {
   "cell_type": "code",
   "execution_count": null,
   "id": "62bef855",
   "metadata": {},
   "outputs": [],
   "source": [
    "psi, theta, phi = sm.symbols('psi, theta, varphi')"
   ]
  },
  {
   "cell_type": "code",
   "execution_count": null,
   "id": "3e377039",
   "metadata": {},
   "outputs": [],
   "source": [
    "C.orient_body_fixed(A, (psi, theta, phi), 'ZXZ')"
   ]
  },
  {
   "cell_type": "code",
   "execution_count": null,
   "id": "7f1d2ae6",
   "metadata": {},
   "outputs": [],
   "source": [
    "C.dcm(A)"
   ]
  },
  {
   "cell_type": "code",
   "execution_count": null,
   "id": "2356a9da",
   "metadata": {},
   "outputs": [],
   "source": []
  }
 ],
 "metadata": {
  "kernelspec": {
   "display_name": "Python 3",
   "language": "python",
   "name": "python3"
  },
  "language_info": {
   "codemirror_mode": {
    "name": "ipython",
    "version": 3
   },
   "file_extension": ".py",
   "mimetype": "text/x-python",
   "name": "python",
   "nbconvert_exporter": "python",
   "pygments_lexer": "ipython3",
   "version": "3.8.12"
  }
 },
 "nbformat": 4,
 "nbformat_minor": 5
}
