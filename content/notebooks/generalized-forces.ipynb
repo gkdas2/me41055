{
 "cells": [
  {
   "cell_type": "code",
   "execution_count": null,
   "id": "5dad61e8",
   "metadata": {},
   "outputs": [],
   "source": [
    "import sympy as sm\n",
    "import sympy.physics.mechanics as me\n",
    "me.init_vprinting()"
   ]
  },
  {
   "cell_type": "code",
   "execution_count": null,
   "id": "673cc298",
   "metadata": {},
   "outputs": [],
   "source": [
    "k, m, l, g = sm.symbols('k, m, l, g')\n",
    "\n",
    "q1, q2 = me.dynamicsymbols('q1, q2')\n",
    "\n",
    "u1, u2 = me.dynamicsymbols('u1, u2')"
   ]
  },
  {
   "cell_type": "code",
   "execution_count": null,
   "id": "c8972ca1",
   "metadata": {},
   "outputs": [],
   "source": [
    "N, A, B = sm.symbols('N, A, B', cls=me.ReferenceFrame)"
   ]
  },
  {
   "cell_type": "code",
   "execution_count": null,
   "id": "ca66e588",
   "metadata": {},
   "outputs": [],
   "source": [
    "O, Ao, Bo = sm.symbols('O, Ao, Bo', cls=me.Point)"
   ]
  },
  {
   "cell_type": "code",
   "execution_count": null,
   "id": "3e30e5a9",
   "metadata": {},
   "outputs": [],
   "source": [
    "A.orient_axis(N, q1, N.z)\n",
    "B.orient_axis(A, q2, A.x)"
   ]
  },
  {
   "cell_type": "code",
   "execution_count": null,
   "id": "0a920de7",
   "metadata": {},
   "outputs": [],
   "source": [
    "A.set_ang_vel(N, u1*N.z)\n",
    "B.set_ang_vel(A, u2*A.x)"
   ]
  },
  {
   "cell_type": "code",
   "execution_count": null,
   "id": "110e7a54",
   "metadata": {},
   "outputs": [],
   "source": [
    "O.set_vel(N, 0)"
   ]
  },
  {
   "cell_type": "code",
   "execution_count": null,
   "id": "586c7672",
   "metadata": {},
   "outputs": [],
   "source": [
    "Ao.set_pos(O, l/2*A.x)\n",
    "Bo.set_pos(O, l*A.x)"
   ]
  },
  {
   "cell_type": "code",
   "execution_count": null,
   "id": "acbde2e6",
   "metadata": {},
   "outputs": [],
   "source": [
    "Ao.v2pt_theory(O, N, A)"
   ]
  },
  {
   "cell_type": "code",
   "execution_count": null,
   "id": "ce6689b4",
   "metadata": {},
   "outputs": [],
   "source": [
    "Bo.v2pt_theory(O, N, A)"
   ]
  },
  {
   "cell_type": "code",
   "execution_count": null,
   "id": "152f5d8f",
   "metadata": {},
   "outputs": [],
   "source": [
    "A.ang_vel_in(N)"
   ]
  },
  {
   "cell_type": "code",
   "execution_count": null,
   "id": "02852e98",
   "metadata": {},
   "outputs": [],
   "source": [
    "B.ang_vel_in(N)"
   ]
  },
  {
   "cell_type": "code",
   "execution_count": null,
   "id": "bb0f0016",
   "metadata": {},
   "outputs": [],
   "source": [
    "me.partial_velocity([Ao.vel(N), Bo.vel(N),\n",
    "                     A.ang_vel_in(N), B.ang_vel_in(N)], [u1, u2], N)"
   ]
  },
  {
   "cell_type": "code",
   "execution_count": null,
   "id": "16d026e4",
   "metadata": {},
   "outputs": [],
   "source": [
    "v_Ao_1 = Ao.vel(N).diff(u1, N)\n",
    "v_Ao_2 = Ao.vel(N).diff(u2, N)\n",
    "v_Bo_1 = Bo.vel(N).diff(u1, N)\n",
    "v_Bo_2 = Bo.vel(N).diff(u2, N)\n",
    "w_A_1 = A.ang_vel_in(N).diff(u1, N)\n",
    "w_A_2 = A.ang_vel_in(N).diff(u2, N)\n",
    "w_B_1 = B.ang_vel_in(N).diff(u1, N)\n",
    "w_B_2 = B.ang_vel_in(N).diff(u2, N)"
   ]
  },
  {
   "cell_type": "code",
   "execution_count": null,
   "id": "756ff533",
   "metadata": {},
   "outputs": [],
   "source": [
    "R_Ao = m*g*N.x\n",
    "R_Bo = m*g*N.x\n",
    "T_A = -q1*k*N.z + q2*k*B.x\n",
    "T_B = -q2*k*B.x"
   ]
  },
  {
   "cell_type": "code",
   "execution_count": null,
   "id": "a430ba25",
   "metadata": {},
   "outputs": [],
   "source": [
    "F1 = v_Ao_1.dot(R_Ao) + v_Bo_1.dot(R_Bo) + w_A_1.dot(T_A) + w_B_1.dot(T_B)\n",
    "F1"
   ]
  },
  {
   "cell_type": "code",
   "execution_count": null,
   "id": "ed6ee175",
   "metadata": {},
   "outputs": [],
   "source": [
    "F2 = v_Ao_2.dot(R_Ao) + v_Bo_2.dot(R_Bo) + w_A_2.dot(T_A) + w_B_2.dot(T_B)\n",
    "F2"
   ]
  },
  {
   "cell_type": "code",
   "execution_count": null,
   "id": "6c6d1ec4",
   "metadata": {},
   "outputs": [],
   "source": [
    "Rs_Ao = -m*Ao.acc(N)\n",
    "Rs_Bo = -m*Bo.acc(N)"
   ]
  },
  {
   "cell_type": "code",
   "execution_count": null,
   "id": "a7425551",
   "metadata": {},
   "outputs": [],
   "source": [
    "I = m*l**2/12\n",
    "I_A_Ao = I*me.outer(A.y, A.y) + I*me.outer(A.z, A.z)\n",
    "I_B_Bo = I*me.outer(B.x, B.x) + I*me.outer(B.z, B.z)"
   ]
  },
  {
   "cell_type": "code",
   "execution_count": null,
   "id": "8366bdda",
   "metadata": {},
   "outputs": [],
   "source": [
    "Ts_A = -(A.ang_acc_in(N).dot(I_A_Ao) +\n",
    "         me.cross(A.ang_vel_in(N), I_A_Ao).dot(A.ang_vel_in(N)))\n",
    "Ts_B = -(B.ang_acc_in(N).dot(I_B_Bo) +\n",
    "         me.cross(B.ang_vel_in(N), I_B_Bo).dot(B.ang_vel_in(N)))"
   ]
  },
  {
   "cell_type": "code",
   "execution_count": null,
   "id": "6d1b2817",
   "metadata": {},
   "outputs": [],
   "source": [
    "Fs1 = v_Ao_1.dot(Rs_Ao) + v_Bo_1.dot(Rs_Bo) + w_A_1.dot(Ts_A) + w_B_1.dot(Ts_B)\n",
    "Fs1"
   ]
  },
  {
   "cell_type": "code",
   "execution_count": null,
   "id": "d05310e8",
   "metadata": {},
   "outputs": [],
   "source": [
    "Fs2 = v_Ao_2.dot(Rs_Ao) + v_Bo_2.dot(Rs_Bo) + w_A_2.dot(Ts_A) + w_B_2.dot(Ts_B)\n",
    "Fs2"
   ]
  },
  {
   "cell_type": "code",
   "execution_count": null,
   "id": "b5789fd7",
   "metadata": {},
   "outputs": [],
   "source": [
    "Fr = sm.Matrix([F1, F2])\n",
    "Fr"
   ]
  },
  {
   "cell_type": "code",
   "execution_count": null,
   "id": "197d4557",
   "metadata": {},
   "outputs": [],
   "source": [
    "Frs = sm.Matrix([Fs1, Fs2])\n",
    "Frs"
   ]
  },
  {
   "cell_type": "code",
   "execution_count": null,
   "id": "b6358fa7",
   "metadata": {},
   "outputs": [],
   "source": []
  }
 ],
 "metadata": {
  "kernelspec": {
   "display_name": "Python 3",
   "language": "python",
   "name": "python3"
  },
  "language_info": {
   "codemirror_mode": {
    "name": "ipython",
    "version": 3
   },
   "file_extension": ".py",
   "mimetype": "text/x-python",
   "name": "python",
   "nbconvert_exporter": "python",
   "pygments_lexer": "ipython3",
   "version": "3.8.12"
  }
 },
 "nbformat": 4,
 "nbformat_minor": 5
}
