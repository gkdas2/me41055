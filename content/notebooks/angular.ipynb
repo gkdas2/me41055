{
 "cells": [
  {
   "cell_type": "code",
   "execution_count": null,
   "id": "780ea7db",
   "metadata": {},
   "outputs": [],
   "source": [
    "import sympy as sm\n",
    "import sympy.physics.mechanics as me\n",
    "me.init_vprinting()"
   ]
  },
  {
   "cell_type": "code",
   "execution_count": null,
   "id": "35d8fb1f",
   "metadata": {},
   "outputs": [],
   "source": [
    "N, A, B = sm.symbols(\"N, A, B\", cls=me.ReferenceFrame)"
   ]
  },
  {
   "cell_type": "code",
   "execution_count": null,
   "id": "42396afd",
   "metadata": {},
   "outputs": [],
   "source": [
    "alpha, beta, d = me.dynamicsymbols('alpha, beta, d')"
   ]
  },
  {
   "cell_type": "code",
   "execution_count": null,
   "id": "61725bb7",
   "metadata": {},
   "outputs": [],
   "source": [
    "A.orient_axis(N, alpha, N.z)\n",
    "B.orient_axis(A, beta, A.x)"
   ]
  },
  {
   "cell_type": "code",
   "execution_count": null,
   "id": "c59642e4",
   "metadata": {},
   "outputs": [],
   "source": [
    "A.ang_vel_in(N)"
   ]
  },
  {
   "cell_type": "code",
   "execution_count": null,
   "id": "5b6e8f24",
   "metadata": {},
   "outputs": [],
   "source": [
    "A.ang_vel_in(N).express(A)"
   ]
  },
  {
   "cell_type": "code",
   "execution_count": null,
   "id": "5a524acc",
   "metadata": {},
   "outputs": [],
   "source": [
    "B.ang_vel_in(A)"
   ]
  },
  {
   "cell_type": "code",
   "execution_count": null,
   "id": "23ca7136",
   "metadata": {},
   "outputs": [],
   "source": [
    "A.ang_vel_in(N) + B.ang_vel_in(A)"
   ]
  },
  {
   "cell_type": "code",
   "execution_count": null,
   "id": "86aa0572",
   "metadata": {},
   "outputs": [],
   "source": [
    "B.ang_vel_in(N)"
   ]
  },
  {
   "cell_type": "code",
   "execution_count": null,
   "id": "ddbefef6",
   "metadata": {},
   "outputs": [],
   "source": [
    "A.ang_acc_in(N)"
   ]
  },
  {
   "cell_type": "code",
   "execution_count": null,
   "id": "c381a5f5",
   "metadata": {},
   "outputs": [],
   "source": [
    "B.ang_acc_in(A)"
   ]
  },
  {
   "cell_type": "code",
   "execution_count": null,
   "id": "11ac4db5",
   "metadata": {},
   "outputs": [],
   "source": [
    "B.ang_acc_in(N)"
   ]
  },
  {
   "cell_type": "code",
   "execution_count": null,
   "id": "de84d424",
   "metadata": {},
   "outputs": [],
   "source": [
    "A.ang_acc_in(N) + B.ang_acc_in(A)"
   ]
  },
  {
   "cell_type": "code",
   "execution_count": null,
   "id": "ad902624",
   "metadata": {},
   "outputs": [],
   "source": [
    "B.ang_acc_in(N).express(B)"
   ]
  },
  {
   "cell_type": "code",
   "execution_count": null,
   "id": "d73da972",
   "metadata": {},
   "outputs": [],
   "source": []
  }
 ],
 "metadata": {
  "kernelspec": {
   "display_name": "Python 3",
   "language": "python",
   "name": "python3"
  },
  "language_info": {
   "codemirror_mode": {
    "name": "ipython",
    "version": 3
   },
   "file_extension": ".py",
   "mimetype": "text/x-python",
   "name": "python",
   "nbconvert_exporter": "python",
   "pygments_lexer": "ipython3",
   "version": "3.8.12"
  }
 },
 "nbformat": 4,
 "nbformat_minor": 5
}
