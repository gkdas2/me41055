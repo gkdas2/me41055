{
 "cells": [
  {
   "cell_type": "code",
   "execution_count": null,
   "id": "b4305af9",
   "metadata": {},
   "outputs": [],
   "source": [
    "import sympy as sm\n",
    "import sympy.physics.mechanics as me\n",
    "me.init_vprinting()"
   ]
  },
  {
   "cell_type": "code",
   "execution_count": null,
   "id": "017c1d0a",
   "metadata": {},
   "outputs": [],
   "source": [
    "m1, m2, m3, m4 = sm.symbols('m1, m2, m3, m4')"
   ]
  },
  {
   "cell_type": "code",
   "execution_count": null,
   "id": "dfce8048",
   "metadata": {},
   "outputs": [],
   "source": [
    "N = me.ReferenceFrame('N')"
   ]
  },
  {
   "cell_type": "code",
   "execution_count": null,
   "id": "52642169",
   "metadata": {},
   "outputs": [],
   "source": [
    "r1 = 3*N.x + 4*N.y\n",
    "r2 = 3*N.y + 4*N.z\n",
    "r3 = 4*N.x + 3*N.z\n",
    "r4 = 4*N.y + 3*N.z"
   ]
  },
  {
   "cell_type": "code",
   "execution_count": null,
   "id": "c534d7c9",
   "metadata": {},
   "outputs": [],
   "source": [
    "first_moment = m1*r1 + m2*r2 + m3*r3 + m4*r4"
   ]
  },
  {
   "cell_type": "code",
   "execution_count": null,
   "id": "6943f229",
   "metadata": {},
   "outputs": [],
   "source": [
    "zeroth_moment = m1 + m2 + m3 + m4"
   ]
  },
  {
   "cell_type": "code",
   "execution_count": null,
   "id": "ab02032f",
   "metadata": {},
   "outputs": [],
   "source": [
    "mass_center = first_moment/zeroth_moment\n",
    "mass_center"
   ]
  },
  {
   "cell_type": "code",
   "execution_count": null,
   "id": "7a79d0ef",
   "metadata": {},
   "outputs": [],
   "source": [
    "Ix = (\n",
    "m1*me.cross(r1, me.cross(N.x, r1)) +\n",
    "m2*me.cross(r2, me.cross(N.x, r2)) +\n",
    "m3*me.cross(r3, me.cross(N.x, r3)) +\n",
    "m4*me.cross(r4, me.cross(N.x, r4))\n",
    ")\n",
    "Ix"
   ]
  },
  {
   "cell_type": "code",
   "execution_count": null,
   "id": "b6016b36",
   "metadata": {},
   "outputs": [],
   "source": [
    "na = (N.x + N.y + N.z).normalize()"
   ]
  },
  {
   "cell_type": "code",
   "execution_count": null,
   "id": "b539c55e",
   "metadata": {},
   "outputs": [],
   "source": [
    "Ia = (\n",
    "m1*me.cross(r1, me.cross(na, r1)) +\n",
    "m2*me.cross(r2, me.cross(na, r2)) +\n",
    "m3*me.cross(r3, me.cross(na, r3)) +\n",
    "m4*me.cross(r4, me.cross(na, r4))\n",
    ")\n",
    "Ia"
   ]
  },
  {
   "cell_type": "code",
   "execution_count": null,
   "id": "3d5aa5f2",
   "metadata": {},
   "outputs": [],
   "source": [
    "sm.simplify(Ia.dot(na))"
   ]
  },
  {
   "cell_type": "code",
   "execution_count": null,
   "id": "665d996d",
   "metadata": {},
   "outputs": [],
   "source": [
    "Ia.dot(N.x)"
   ]
  },
  {
   "cell_type": "code",
   "execution_count": null,
   "id": "b9ecc327",
   "metadata": {},
   "outputs": [],
   "source": [
    "r_r = -3*N.y + 4*N.x\n",
    "r_l =  3*N.y + 4*N.x\n",
    "\n",
    "m = sm.symbols('m')\n",
    "\n",
    "Ix = (\n",
    "    m*me.cross(r_r, me.cross(N.x, r_r)) +\n",
    "    m*me.cross(r_l, me.cross(N.x, r_l))\n",
    ")\n",
    "Ix"
   ]
  },
  {
   "cell_type": "code",
   "execution_count": null,
   "id": "25c1f19c",
   "metadata": {},
   "outputs": [],
   "source": [
    "m*me.cross(r_r, me.cross(N.x, r_r))"
   ]
  },
  {
   "cell_type": "code",
   "execution_count": null,
   "id": "4b508ece",
   "metadata": {},
   "outputs": [],
   "source": [
    "m*me.cross(r_l, me.cross(N.x, r_l))\n"
   ]
  },
  {
   "cell_type": "code",
   "execution_count": null,
   "id": "f3c6d683",
   "metadata": {},
   "outputs": [],
   "source": [
    "Ix.dot(N.y)"
   ]
  },
  {
   "cell_type": "code",
   "execution_count": null,
   "id": "0b0d6e13",
   "metadata": {},
   "outputs": [],
   "source": []
  }
 ],
 "metadata": {
  "kernelspec": {
   "display_name": "Python 3",
   "language": "python",
   "name": "python3"
  },
  "language_info": {
   "codemirror_mode": {
    "name": "ipython",
    "version": 3
   },
   "file_extension": ".py",
   "mimetype": "text/x-python",
   "name": "python",
   "nbconvert_exporter": "python",
   "pygments_lexer": "ipython3",
   "version": "3.8.12"
  }
 },
 "nbformat": 4,
 "nbformat_minor": 5
}
