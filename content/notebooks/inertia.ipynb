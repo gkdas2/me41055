{
 "cells": [
  {
   "cell_type": "code",
   "execution_count": null,
   "id": "16063b3d",
   "metadata": {},
   "outputs": [],
   "source": [
    "import sympy as sm\n",
    "import sympy.physics.mechanics as me\n",
    "me.init_vprinting()"
   ]
  },
  {
   "cell_type": "code",
   "execution_count": null,
   "id": "3cc22e42",
   "metadata": {},
   "outputs": [],
   "source": [
    "A = me.ReferenceFrame('A')\n",
    "B = me.ReferenceFrame('B')\n",
    "\n",
    "theta = me.dynamicsymbols('theta')\n",
    "\n",
    "B.orient_axis(A, theta, A.y)"
   ]
  },
  {
   "cell_type": "code",
   "execution_count": null,
   "id": "bd2ec838",
   "metadata": {},
   "outputs": [],
   "source": [
    "Q = 3*me.outer(B.x, A.z) + 4*me.outer(A.x, A.x) + 6*me.outer(A.z, B.z)"
   ]
  },
  {
   "cell_type": "code",
   "execution_count": null,
   "id": "d04dc386",
   "metadata": {},
   "outputs": [],
   "source": [
    "Q"
   ]
  },
  {
   "cell_type": "code",
   "execution_count": null,
   "id": "1d98f777",
   "metadata": {},
   "outputs": [],
   "source": [
    "Q.express(A)"
   ]
  },
  {
   "cell_type": "code",
   "execution_count": null,
   "id": "b7091aa6",
   "metadata": {},
   "outputs": [],
   "source": [
    "Q.express(B)"
   ]
  },
  {
   "cell_type": "code",
   "execution_count": null,
   "id": "f392fc01",
   "metadata": {},
   "outputs": [],
   "source": [
    "Q.to_matrix(A)"
   ]
  },
  {
   "cell_type": "code",
   "execution_count": null,
   "id": "b03d52ae",
   "metadata": {},
   "outputs": [],
   "source": [
    "Q.to_matrix(B)"
   ]
  },
  {
   "cell_type": "code",
   "execution_count": null,
   "id": "8a540552",
   "metadata": {},
   "outputs": [],
   "source": [
    "M1, M2, M3 = me.dynamicsymbols('M1, M2, M3')\n",
    "\n",
    "A = me.ReferenceFrame('A')\n",
    "B = me.ReferenceFrame('B')\n",
    "\n",
    "w1, w2, w3 = me.dynamicsymbols('omega1, omega2, omega3')"
   ]
  },
  {
   "cell_type": "code",
   "execution_count": null,
   "id": "0db96238",
   "metadata": {},
   "outputs": [],
   "source": [
    "A_w_B = w1*B.x + w2*B.y + w3*B.z\n",
    "A_w_B"
   ]
  },
  {
   "cell_type": "code",
   "execution_count": null,
   "id": "c6eea9bd",
   "metadata": {},
   "outputs": [],
   "source": [
    "M = M1*B.x + M2*B.y + M3*B.z\n",
    "M"
   ]
  },
  {
   "cell_type": "code",
   "execution_count": null,
   "id": "4c16ef90",
   "metadata": {},
   "outputs": [],
   "source": [
    "I11, I22, I33 = sm.symbols('I_{11}, I_{22}, I_{33}')"
   ]
  },
  {
   "cell_type": "code",
   "execution_count": null,
   "id": "a8492de1",
   "metadata": {},
   "outputs": [],
   "source": [
    "I = I11*me.outer(B.x, B.x) + I22*me.outer(B.y, B.y) + I33*me.outer(B.z, B.z)\n",
    "I"
   ]
  },
  {
   "cell_type": "code",
   "execution_count": null,
   "id": "bea28767",
   "metadata": {},
   "outputs": [],
   "source": [
    "H = me.dot(I, A_w_B)\n",
    "H"
   ]
  },
  {
   "cell_type": "code",
   "execution_count": null,
   "id": "386dd645",
   "metadata": {},
   "outputs": [],
   "source": [
    "t = me.dynamicsymbols._t\n",
    "\n",
    "Hdot = H.diff(t, B) + me.cross(A_w_B, H)\n",
    "Hdot"
   ]
  },
  {
   "cell_type": "code",
   "execution_count": null,
   "id": "0422430b",
   "metadata": {},
   "outputs": [],
   "source": [
    "M - Hdot"
   ]
  },
  {
   "cell_type": "code",
   "execution_count": null,
   "id": "69033556",
   "metadata": {},
   "outputs": [],
   "source": [
    "sm.Eq(M.to_matrix(B), Hdot.to_matrix(B))"
   ]
  },
  {
   "cell_type": "code",
   "execution_count": null,
   "id": "3e6ec66f",
   "metadata": {},
   "outputs": [],
   "source": [
    "A_w_B.diff(t, B)"
   ]
  },
  {
   "cell_type": "markdown",
   "id": "605513af",
   "metadata": {},
   "source": [
    "# Bicycle example"
   ]
  },
  {
   "cell_type": "code",
   "execution_count": null,
   "id": "db0de7b6",
   "metadata": {},
   "outputs": [],
   "source": [
    "B = me.ReferenceFrame('B')\n",
    "H = me.ReferenceFrame('H')"
   ]
  },
  {
   "cell_type": "code",
   "execution_count": null,
   "id": "7af61bce",
   "metadata": {},
   "outputs": [],
   "source": [
    "B_C_H = sm.Matrix([[0, -1, 0],\n",
    "                   [-1, 0, 0],\n",
    "                   [0, 0, -1]])\n",
    "B_C_H"
   ]
  },
  {
   "cell_type": "code",
   "execution_count": null,
   "id": "3ad78c6a",
   "metadata": {},
   "outputs": [],
   "source": [
    "B.orient_explicit(H, B_C_H.transpose())"
   ]
  },
  {
   "cell_type": "code",
   "execution_count": null,
   "id": "37b795b1",
   "metadata": {},
   "outputs": [],
   "source": [
    "mH = 84\n",
    "mB = 9.9"
   ]
  },
  {
   "cell_type": "code",
   "execution_count": null,
   "id": "9599d4ad",
   "metadata": {},
   "outputs": [],
   "source": [
    "r_O_Ho = 0.4*B.x - 1.1*B.z\n",
    "r_O_Bo = 0.3*B.x - 0.5*B.z"
   ]
  },
  {
   "cell_type": "code",
   "execution_count": null,
   "id": "c47a5697",
   "metadata": {},
   "outputs": [],
   "source": [
    "r_O_Fo = (mB*r_O_Bo + mH*r_O_Ho)/(mB + mH)\n",
    "r_O_Fo"
   ]
  },
  {
   "cell_type": "code",
   "execution_count": null,
   "id": "f08d070e",
   "metadata": {},
   "outputs": [],
   "source": [
    "I_H_Ho = me.inertia(H, 11.3, 11.0, 2.3, iyz=-1.7)\n",
    "I_B_Bo = me.inertia(B, 0.5, 1.3, 0.8, izx=-0.1)"
   ]
  },
  {
   "cell_type": "code",
   "execution_count": null,
   "id": "a6aeb845",
   "metadata": {},
   "outputs": [],
   "source": [
    "I_H_Ho"
   ]
  },
  {
   "cell_type": "code",
   "execution_count": null,
   "id": "5bc58b73",
   "metadata": {},
   "outputs": [],
   "source": [
    "r_Fo_Ho = r_O_Fo - r_O_Ho\n",
    "U = me.outer(H.x, H.x) + me.outer(H.y, H.y) + me.outer(H.z, H.z)\n",
    "I_Ho_Fo = mH*(r_Fo_Ho.dot(r_Fo_Ho)*U -\n",
    "              me.outer(r_Fo_Ho, r_Fo_Ho))\n",
    "I_Ho_Fo"
   ]
  },
  {
   "cell_type": "code",
   "execution_count": null,
   "id": "a906a286",
   "metadata": {},
   "outputs": [],
   "source": [
    "r_Fo_Bo = r_O_Fo - r_O_Bo\n",
    "I_Bo_Fo = mH*(r_Fo_Bo.dot(r_Fo_Bo)*U -\n",
    "              me.outer(r_Fo_Bo, r_Fo_Bo))\n",
    "I_Bo_Fo"
   ]
  },
  {
   "cell_type": "code",
   "execution_count": null,
   "id": "329b75a7",
   "metadata": {},
   "outputs": [],
   "source": [
    "I_B_Fo = I_B_Bo + I_Bo_Fo\n",
    "I_H_Fo = I_H_Ho + I_Ho_Fo"
   ]
  },
  {
   "cell_type": "code",
   "execution_count": null,
   "id": "c83db1bb",
   "metadata": {},
   "outputs": [],
   "source": [
    "I_F_Fo = I_B_Fo + I_H_Fo\n",
    "I_F_Fo"
   ]
  },
  {
   "cell_type": "code",
   "execution_count": null,
   "id": "15126b85",
   "metadata": {},
   "outputs": [],
   "source": [
    "I_F_Fo.to_matrix(B)"
   ]
  },
  {
   "cell_type": "code",
   "execution_count": null,
   "id": "ab3ce13c",
   "metadata": {},
   "outputs": [],
   "source": []
  }
 ],
 "metadata": {
  "kernelspec": {
   "display_name": "Python 3",
   "language": "python",
   "name": "python3"
  },
  "language_info": {
   "codemirror_mode": {
    "name": "ipython",
    "version": 3
   },
   "file_extension": ".py",
   "mimetype": "text/x-python",
   "name": "python",
   "nbconvert_exporter": "python",
   "pygments_lexer": "ipython3",
   "version": "3.8.12"
  }
 },
 "nbformat": 4,
 "nbformat_minor": 5
}
