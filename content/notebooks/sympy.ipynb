{
 "cells": [
  {
   "cell_type": "code",
   "execution_count": null,
   "id": "df4c4b5e",
   "metadata": {},
   "outputs": [],
   "source": [
    "import sympy as sm"
   ]
  },
  {
   "cell_type": "code",
   "execution_count": null,
   "id": "320e551f",
   "metadata": {},
   "outputs": [],
   "source": [
    "sm.init_printing()"
   ]
  },
  {
   "cell_type": "markdown",
   "id": "22cdfcfa",
   "metadata": {},
   "source": [
    "# Symbols and Functions"
   ]
  },
  {
   "cell_type": "code",
   "execution_count": null,
   "id": "88123e73",
   "metadata": {},
   "outputs": [],
   "source": [
    "a, b, th, gamma, x, t, y, z = sm.symbols('a, b, theta, gamma, x, t, y, z')"
   ]
  },
  {
   "cell_type": "code",
   "execution_count": null,
   "id": "3c5ddb2a",
   "metadata": {},
   "outputs": [],
   "source": [
    "%whos"
   ]
  },
  {
   "cell_type": "code",
   "execution_count": null,
   "id": "03b3f97d",
   "metadata": {},
   "outputs": [],
   "source": [
    "a, b, th, gamma, x, t, y, z"
   ]
  },
  {
   "cell_type": "code",
   "execution_count": null,
   "id": "0c92a56f",
   "metadata": {},
   "outputs": [],
   "source": [
    "f = sm.Function('f')"
   ]
  },
  {
   "cell_type": "code",
   "execution_count": null,
   "id": "e3c881ca",
   "metadata": {},
   "outputs": [],
   "source": [
    "f(t)"
   ]
  },
  {
   "cell_type": "code",
   "execution_count": null,
   "id": "c211782e",
   "metadata": {},
   "outputs": [],
   "source": [
    "f(x, y, z)"
   ]
  },
  {
   "cell_type": "code",
   "execution_count": null,
   "id": "3d84b754",
   "metadata": {},
   "outputs": [],
   "source": [
    "a1, a2, a3 = sm.symbols('a1, a2, a3')"
   ]
  },
  {
   "cell_type": "code",
   "execution_count": null,
   "id": "0f6ec64b",
   "metadata": {},
   "outputs": [],
   "source": [
    "a1, a2, a3"
   ]
  },
  {
   "cell_type": "markdown",
   "id": "b6aa528e",
   "metadata": {},
   "source": [
    "# Expressions"
   ]
  },
  {
   "cell_type": "code",
   "execution_count": null,
   "id": "78546f01",
   "metadata": {},
   "outputs": [],
   "source": [
    "expr1 = a + b - x\n",
    "expr1"
   ]
  },
  {
   "cell_type": "code",
   "execution_count": null,
   "id": "a5bbcfef",
   "metadata": {},
   "outputs": [],
   "source": [
    "expr2 = f(t) + 2*f(x, y, z) + a/b\n",
    "expr2"
   ]
  },
  {
   "cell_type": "code",
   "execution_count": null,
   "id": "936ad1dc",
   "metadata": {},
   "outputs": [],
   "source": [
    "expr3 = sm.sin(f(t)) - sm.tan(a/b)/sm.log(gamma)\n",
    "expr3"
   ]
  },
  {
   "cell_type": "markdown",
   "id": "df99b8c5",
   "metadata": {},
   "source": [
    "# Printing"
   ]
  },
  {
   "cell_type": "code",
   "execution_count": null,
   "id": "2fb02520",
   "metadata": {},
   "outputs": [],
   "source": [
    "print(expr3)"
   ]
  },
  {
   "cell_type": "code",
   "execution_count": null,
   "id": "f9e56b8e",
   "metadata": {},
   "outputs": [],
   "source": [
    "repr(expr3)"
   ]
  },
  {
   "cell_type": "code",
   "execution_count": null,
   "id": "7c65c441",
   "metadata": {},
   "outputs": [],
   "source": [
    "sm.srepr(expr1)"
   ]
  },
  {
   "cell_type": "code",
   "execution_count": null,
   "id": "759b9349",
   "metadata": {},
   "outputs": [],
   "source": [
    "sm.pprint(expr3)"
   ]
  },
  {
   "cell_type": "code",
   "execution_count": null,
   "id": "c681823e",
   "metadata": {},
   "outputs": [],
   "source": [
    "print(sm.latex(expr3))"
   ]
  },
  {
   "cell_type": "code",
   "execution_count": null,
   "id": "faafdfdd",
   "metadata": {},
   "outputs": [],
   "source": [
    "sm.ccode(expr1)"
   ]
  },
  {
   "cell_type": "code",
   "execution_count": null,
   "id": "ce6d1275",
   "metadata": {},
   "outputs": [],
   "source": [
    "print(sm.octave_code(expr3))"
   ]
  },
  {
   "cell_type": "markdown",
   "id": "4588ce6b",
   "metadata": {},
   "source": [
    "# Derivatives"
   ]
  },
  {
   "cell_type": "code",
   "execution_count": null,
   "id": "c0f265f6",
   "metadata": {},
   "outputs": [],
   "source": [
    "expr3"
   ]
  },
  {
   "cell_type": "code",
   "execution_count": null,
   "id": "c234c446",
   "metadata": {},
   "outputs": [],
   "source": [
    "sm.diff(expr3, a)"
   ]
  },
  {
   "cell_type": "code",
   "execution_count": null,
   "id": "cb59f599",
   "metadata": {},
   "outputs": [],
   "source": [
    "part1 = sm.diff(expr3, a)"
   ]
  },
  {
   "cell_type": "code",
   "execution_count": null,
   "id": "e4c0e981",
   "metadata": {},
   "outputs": [],
   "source": [
    "part2 = sm.diff(part1, b)"
   ]
  },
  {
   "cell_type": "code",
   "execution_count": null,
   "id": "f3ff8f24",
   "metadata": {},
   "outputs": [],
   "source": [
    "part2"
   ]
  },
  {
   "cell_type": "code",
   "execution_count": null,
   "id": "a58f6ff1",
   "metadata": {},
   "outputs": [],
   "source": [
    "expr3.diff(a)"
   ]
  },
  {
   "cell_type": "code",
   "execution_count": null,
   "id": "dbf40d49",
   "metadata": {},
   "outputs": [],
   "source": [
    "expr3.diff(t)"
   ]
  },
  {
   "cell_type": "code",
   "execution_count": null,
   "id": "9f69d937",
   "metadata": {},
   "outputs": [],
   "source": [
    "expr3.diff(t, 2)"
   ]
  },
  {
   "cell_type": "code",
   "execution_count": null,
   "id": "0bf0e047",
   "metadata": {},
   "outputs": [],
   "source": [
    "expr3.diff(t).diff(t)"
   ]
  },
  {
   "cell_type": "markdown",
   "id": "14c45297",
   "metadata": {},
   "source": [
    "# Numerical Evaluation"
   ]
  },
  {
   "cell_type": "code",
   "execution_count": null,
   "id": "fdd4500f",
   "metadata": {},
   "outputs": [],
   "source": [
    "expr1"
   ]
  },
  {
   "cell_type": "code",
   "execution_count": null,
   "id": "2284c8b5",
   "metadata": {},
   "outputs": [],
   "source": [
    "repl = {a: 5, b: -38, x: 102}\n",
    "repl"
   ]
  },
  {
   "cell_type": "code",
   "execution_count": null,
   "id": "daa6af7e",
   "metadata": {},
   "outputs": [],
   "source": [
    "expr1.subs(repl)"
   ]
  },
  {
   "cell_type": "code",
   "execution_count": null,
   "id": "ab78d16c",
   "metadata": {},
   "outputs": [],
   "source": [
    "expr1.xreplace(repl)"
   ]
  },
  {
   "cell_type": "code",
   "execution_count": null,
   "id": "8e5989a4",
   "metadata": {},
   "outputs": [],
   "source": [
    "type(expr1.subs(repl))"
   ]
  },
  {
   "cell_type": "code",
   "execution_count": null,
   "id": "a005bbbf",
   "metadata": {},
   "outputs": [],
   "source": [
    "type(-135)"
   ]
  },
  {
   "cell_type": "code",
   "execution_count": null,
   "id": "95389870",
   "metadata": {},
   "outputs": [],
   "source": [
    "type(int(expr1.subs(repl)))"
   ]
  },
  {
   "cell_type": "code",
   "execution_count": null,
   "id": "fb59527d",
   "metadata": {},
   "outputs": [],
   "source": [
    "expr4 = sm.pi/4 + sm.sin(x*y)\n",
    "expr4"
   ]
  },
  {
   "cell_type": "code",
   "execution_count": null,
   "id": "0eb29c9c",
   "metadata": {},
   "outputs": [],
   "source": [
    "expr4.xreplace({x: 12, y: 24})"
   ]
  },
  {
   "cell_type": "code",
   "execution_count": null,
   "id": "abf78492",
   "metadata": {},
   "outputs": [],
   "source": [
    "expr4.evalf()"
   ]
  },
  {
   "cell_type": "code",
   "execution_count": null,
   "id": "ddb3c0bd",
   "metadata": {},
   "outputs": [],
   "source": [
    "expr4.evalf(subs={x: 12, y:24})"
   ]
  },
  {
   "cell_type": "code",
   "execution_count": null,
   "id": "ba4856dd",
   "metadata": {},
   "outputs": [],
   "source": [
    "type(expr4.evalf(subs={x: 12, y:24}))"
   ]
  },
  {
   "cell_type": "code",
   "execution_count": null,
   "id": "d32d3a7d",
   "metadata": {},
   "outputs": [],
   "source": [
    "type(float(expr4.evalf(subs={x: 12, y:24})))"
   ]
  },
  {
   "cell_type": "code",
   "execution_count": null,
   "id": "1f95694e",
   "metadata": {},
   "outputs": [],
   "source": [
    "expr4.evalf(subs={x: 12, y:24}, n=1000)"
   ]
  },
  {
   "cell_type": "code",
   "execution_count": null,
   "id": "2b2facb3",
   "metadata": {},
   "outputs": [],
   "source": [
    "expr1"
   ]
  },
  {
   "cell_type": "code",
   "execution_count": null,
   "id": "0f416e11",
   "metadata": {},
   "outputs": [],
   "source": [
    "eval_expr1 = sm.lambdify((a, b, x), expr1)"
   ]
  },
  {
   "cell_type": "code",
   "execution_count": null,
   "id": "3f3ed33b",
   "metadata": {},
   "outputs": [],
   "source": [
    "eval_expr1(12.0, 34.3, -2.0)"
   ]
  },
  {
   "cell_type": "code",
   "execution_count": null,
   "id": "885c60ee",
   "metadata": {},
   "outputs": [],
   "source": [
    "type(eval_expr1(12.0, 34.3, -2.0))"
   ]
  },
  {
   "cell_type": "markdown",
   "id": "3e22f2ea",
   "metadata": {},
   "source": [
    "# Matrices & Linear Algebra"
   ]
  },
  {
   "cell_type": "code",
   "execution_count": null,
   "id": "da02a82e",
   "metadata": {},
   "outputs": [],
   "source": [
    "mat1 = sm.Matrix([[1, 2], [3, 4]])\n",
    "mat1"
   ]
  },
  {
   "cell_type": "code",
   "execution_count": null,
   "id": "1cdf857e",
   "metadata": {},
   "outputs": [],
   "source": [
    "mat1.shape"
   ]
  },
  {
   "cell_type": "code",
   "execution_count": null,
   "id": "8e0b4aa9",
   "metadata": {},
   "outputs": [],
   "source": [
    "mat1.det()"
   ]
  },
  {
   "cell_type": "code",
   "execution_count": null,
   "id": "b8c1b7bf",
   "metadata": {},
   "outputs": [],
   "source": [
    "mat2 = sm.Matrix([[expr1, expr2], [expr3, expr4]])\n",
    "mat2"
   ]
  },
  {
   "cell_type": "code",
   "execution_count": null,
   "id": "ffd276b6",
   "metadata": {},
   "outputs": [],
   "source": [
    "mat2.diff(t)"
   ]
  },
  {
   "cell_type": "code",
   "execution_count": null,
   "id": "6c667987",
   "metadata": {},
   "outputs": [],
   "source": [
    "mat1 + mat2"
   ]
  },
  {
   "cell_type": "code",
   "execution_count": null,
   "id": "bcbeee28",
   "metadata": {},
   "outputs": [],
   "source": [
    "mat1 * mat2"
   ]
  },
  {
   "cell_type": "code",
   "execution_count": null,
   "id": "7f680309",
   "metadata": {},
   "outputs": [],
   "source": [
    "sm.hadamard_product(mat1, mat2)"
   ]
  },
  {
   "cell_type": "code",
   "execution_count": null,
   "id": "d8445d8a",
   "metadata": {},
   "outputs": [],
   "source": [
    "mat1**2"
   ]
  },
  {
   "cell_type": "code",
   "execution_count": null,
   "id": "5956ed98",
   "metadata": {},
   "outputs": [],
   "source": [
    "mat1 * mat1"
   ]
  },
  {
   "cell_type": "code",
   "execution_count": null,
   "id": "a9751470",
   "metadata": {},
   "outputs": [],
   "source": [
    "sm.eye(5)"
   ]
  },
  {
   "cell_type": "code",
   "execution_count": null,
   "id": "0e975e84",
   "metadata": {},
   "outputs": [],
   "source": [
    "sm.zeros(2,4)"
   ]
  },
  {
   "cell_type": "markdown",
   "id": "3593d9af",
   "metadata": {},
   "source": [
    "# Linear systems"
   ]
  },
  {
   "cell_type": "code",
   "execution_count": null,
   "id": "8f6fa28b",
   "metadata": {},
   "outputs": [],
   "source": [
    "lin_expr_1 = a*x + b**2*y + sm.sin(gamma)*z\n",
    "lin_expr_1"
   ]
  },
  {
   "cell_type": "code",
   "execution_count": null,
   "id": "af158844",
   "metadata": {},
   "outputs": [],
   "source": [
    "lin_expr_2 = sm.sin(f(t))*x + sm.log(f(t))*z\n",
    "lin_expr_2"
   ]
  },
  {
   "cell_type": "code",
   "execution_count": null,
   "id": "9c6051fc",
   "metadata": {},
   "outputs": [],
   "source": [
    "sm.Eq(lin_expr_1, 0)"
   ]
  },
  {
   "cell_type": "code",
   "execution_count": null,
   "id": "fa7886a3",
   "metadata": {},
   "outputs": [],
   "source": [
    "sm.Eq(lin_expr_2, 0)"
   ]
  },
  {
   "cell_type": "code",
   "execution_count": null,
   "id": "fc3afc19",
   "metadata": {},
   "outputs": [],
   "source": [
    "res = sm.solve([lin_expr_1, lin_expr_2], x, z, dict=True)\n",
    "res"
   ]
  },
  {
   "cell_type": "code",
   "execution_count": null,
   "id": "897ce091",
   "metadata": {},
   "outputs": [],
   "source": [
    "res_dict = res[0]\n",
    "res_dict"
   ]
  },
  {
   "cell_type": "code",
   "execution_count": null,
   "id": "9c533bbf",
   "metadata": {},
   "outputs": [],
   "source": [
    "sm.Eq(x, res_dict[x])"
   ]
  },
  {
   "cell_type": "code",
   "execution_count": null,
   "id": "c6185d3f",
   "metadata": {},
   "outputs": [],
   "source": [
    "lin_mat_exprs = sm.Matrix([lin_expr_1, lin_expr_2])\n",
    "lin_mat_exprs"
   ]
  },
  {
   "cell_type": "code",
   "execution_count": null,
   "id": "45cd87dd",
   "metadata": {},
   "outputs": [],
   "source": [
    "A = lin_mat_exprs.jacobian([x, z])\n",
    "A"
   ]
  },
  {
   "cell_type": "code",
   "execution_count": null,
   "id": "94b14a5f",
   "metadata": {},
   "outputs": [],
   "source": [
    "b = -lin_mat_exprs.xreplace({x: 0, z: 0})\n",
    "b"
   ]
  },
  {
   "cell_type": "code",
   "execution_count": null,
   "id": "1ab6ab6b",
   "metadata": {},
   "outputs": [],
   "source": [
    "A.LUsolve(b)"
   ]
  },
  {
   "cell_type": "markdown",
   "id": "dcf15511",
   "metadata": {},
   "source": [
    "# Simplification"
   ]
  },
  {
   "cell_type": "code",
   "execution_count": null,
   "id": "ef8c9c56",
   "metadata": {},
   "outputs": [],
   "source": [
    "sm.simplify(A.LUsolve(b))"
   ]
  },
  {
   "cell_type": "code",
   "execution_count": null,
   "id": "b2f6c472",
   "metadata": {},
   "outputs": [],
   "source": [
    "sm.cos(gamma)**2 + sm.sin(gamma)**2"
   ]
  },
  {
   "cell_type": "code",
   "execution_count": null,
   "id": "860b6fdf",
   "metadata": {},
   "outputs": [],
   "source": [
    "sm.trigsimp(sm.cos(gamma)**2 + sm.sin(gamma)**2)"
   ]
  },
  {
   "cell_type": "code",
   "execution_count": null,
   "id": "53ffce12",
   "metadata": {},
   "outputs": [],
   "source": [
    "sub_exprs, simp_expr = sm.cse(A.LUsolve(b).diff(t))"
   ]
  },
  {
   "cell_type": "code",
   "execution_count": null,
   "id": "97bddb91",
   "metadata": {},
   "outputs": [],
   "source": [
    "simp_expr"
   ]
  },
  {
   "cell_type": "code",
   "execution_count": null,
   "id": "f67d051f",
   "metadata": {},
   "outputs": [],
   "source": [
    "sub_exprs"
   ]
  }
 ],
 "metadata": {
  "kernelspec": {
   "display_name": "Python 3",
   "language": "python",
   "name": "python3"
  },
  "language_info": {
   "codemirror_mode": {
    "name": "ipython",
    "version": 3
   },
   "file_extension": ".py",
   "mimetype": "text/x-python",
   "name": "python",
   "nbconvert_exporter": "python",
   "pygments_lexer": "ipython3",
   "version": "3.8.12"
  }
 },
 "nbformat": 4,
 "nbformat_minor": 5
}
