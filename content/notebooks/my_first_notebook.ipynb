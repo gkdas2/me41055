{
 "cells": [
  {
   "cell_type": "markdown",
   "id": "2809c28a",
   "metadata": {},
   "source": [
    "Here is my text. My cell is not editable.\n",
    "\n",
    "# Header\n",
    "\n",
    "- my list\n",
    "- item 2\n",
    "- item 3\n",
    "\n",
    "[a link to google](http://google.com)"
   ]
  },
  {
   "cell_type": "code",
   "execution_count": null,
   "id": "2ef882f5",
   "metadata": {},
   "outputs": [],
   "source": [
    "a = 2"
   ]
  },
  {
   "cell_type": "code",
   "execution_count": null,
   "id": "0e459f5a",
   "metadata": {},
   "outputs": [],
   "source": [
    "a"
   ]
  },
  {
   "cell_type": "code",
   "execution_count": null,
   "id": "9470e757",
   "metadata": {},
   "outputs": [],
   "source": [
    "b = 2.5\n",
    "c = 'a string'\n",
    "d = 56"
   ]
  },
  {
   "cell_type": "code",
   "execution_count": null,
   "id": "9d020f21",
   "metadata": {},
   "outputs": [],
   "source": [
    "b"
   ]
  },
  {
   "cell_type": "code",
   "execution_count": null,
   "id": "7e5eb250",
   "metadata": {},
   "outputs": [],
   "source": [
    "c"
   ]
  },
  {
   "cell_type": "code",
   "execution_count": null,
   "id": "499a4e93",
   "metadata": {},
   "outputs": [],
   "source": [
    "d"
   ]
  },
  {
   "cell_type": "code",
   "execution_count": null,
   "id": "54337d10",
   "metadata": {},
   "outputs": [],
   "source": [
    "%whos"
   ]
  },
  {
   "cell_type": "code",
   "execution_count": null,
   "id": "cf1406b3",
   "metadata": {},
   "outputs": [],
   "source": [
    "print('print me')"
   ]
  },
  {
   "cell_type": "code",
   "execution_count": null,
   "id": "16a0517a",
   "metadata": {},
   "outputs": [],
   "source": [
    "print?"
   ]
  },
  {
   "cell_type": "code",
   "execution_count": null,
   "id": "155fff28",
   "metadata": {},
   "outputs": [],
   "source": [
    "my_list = [1, 2, 3, 'something']"
   ]
  },
  {
   "cell_type": "code",
   "execution_count": null,
   "id": "93163f8a",
   "metadata": {},
   "outputs": [],
   "source": [
    "my_list"
   ]
  },
  {
   "cell_type": "code",
   "execution_count": null,
   "id": "21a0a696",
   "metadata": {},
   "outputs": [],
   "source": [
    "my_list[3]"
   ]
  },
  {
   "cell_type": "code",
   "execution_count": null,
   "id": "7abc5711",
   "metadata": {},
   "outputs": [],
   "source": [
    "my_list[0]"
   ]
  },
  {
   "cell_type": "code",
   "execution_count": null,
   "id": "b99dd188",
   "metadata": {},
   "outputs": [],
   "source": [
    "my_list[0:2]"
   ]
  },
  {
   "cell_type": "code",
   "execution_count": null,
   "id": "3c171c45",
   "metadata": {},
   "outputs": [],
   "source": [
    "my_list.append(7)"
   ]
  },
  {
   "cell_type": "code",
   "execution_count": null,
   "id": "1fecbedd",
   "metadata": {},
   "outputs": [],
   "source": [
    "my_list"
   ]
  },
  {
   "cell_type": "code",
   "execution_count": null,
   "id": "442ce95c",
   "metadata": {},
   "outputs": [],
   "source": [
    "my_tuple = ('a', 'b', 'c')"
   ]
  },
  {
   "cell_type": "code",
   "execution_count": null,
   "id": "4236a1ef",
   "metadata": {},
   "outputs": [],
   "source": [
    "my_tuple"
   ]
  },
  {
   "cell_type": "code",
   "execution_count": null,
   "id": "be7b374d",
   "metadata": {},
   "outputs": [],
   "source": [
    "my_tuple[1]"
   ]
  },
  {
   "cell_type": "code",
   "execution_count": null,
   "id": "183c3ed6",
   "metadata": {},
   "outputs": [],
   "source": [
    "# will raise an error because tuples are not mutable\n",
    "# my_tuple.append(7)"
   ]
  },
  {
   "cell_type": "code",
   "execution_count": null,
   "id": "4174f2ba",
   "metadata": {},
   "outputs": [],
   "source": [
    "for thing in my_list:\n",
    "    print(thing)"
   ]
  },
  {
   "cell_type": "code",
   "execution_count": null,
   "id": "cd049387",
   "metadata": {},
   "outputs": [],
   "source": [
    "my_dict = {'key1': 54, 'key2': 89, 'key5': 1.0}"
   ]
  },
  {
   "cell_type": "code",
   "execution_count": null,
   "id": "37b18690",
   "metadata": {},
   "outputs": [],
   "source": [
    "my_dict"
   ]
  },
  {
   "cell_type": "code",
   "execution_count": null,
   "id": "171457ad",
   "metadata": {},
   "outputs": [],
   "source": [
    "my_dict['key2']"
   ]
  },
  {
   "cell_type": "code",
   "execution_count": null,
   "id": "fb31cf8f",
   "metadata": {},
   "outputs": [],
   "source": [
    "for k, v in my_dict.items():\n",
    "    print(k)\n",
    "    print(v)"
   ]
  },
  {
   "cell_type": "code",
   "execution_count": null,
   "id": "f0671659",
   "metadata": {},
   "outputs": [],
   "source": [
    "def calc_pythagoras(a, b):\n",
    "    c = (a**2 + b**2)**(0.5)\n",
    "    return c"
   ]
  },
  {
   "cell_type": "code",
   "execution_count": null,
   "id": "07903407",
   "metadata": {},
   "outputs": [],
   "source": [
    "calc_pythagoras(12.2, 5.3)"
   ]
  },
  {
   "cell_type": "code",
   "execution_count": null,
   "id": "99d03f1e",
   "metadata": {},
   "outputs": [],
   "source": []
  }
 ],
 "metadata": {
  "kernelspec": {
   "display_name": "Python 3 (ipykernel)",
   "language": "python",
   "name": "python3"
  },
  "language_info": {
   "codemirror_mode": {
    "name": "ipython",
    "version": 3
   },
   "file_extension": ".py",
   "mimetype": "text/x-python",
   "name": "python",
   "nbconvert_exporter": "python",
   "pygments_lexer": "ipython3",
   "version": "3.7.12"
  }
 },
 "nbformat": 4,
 "nbformat_minor": 5
}
