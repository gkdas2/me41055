{
 "cells": [
  {
   "cell_type": "code",
   "execution_count": null,
   "id": "2ea7eac3",
   "metadata": {},
   "outputs": [],
   "source": [
    "from IPython.display import HTML\n",
    "from matplotlib.animation import FuncAnimation\n",
    "from scipy.integrate import solve_ivp\n",
    "import matplotlib.pyplot as plt\n",
    "import numpy as np\n",
    "import sympy as sm\n",
    "import sympy.physics.mechanics as me\n",
    "\n",
    "me.init_vprinting(use_latex='mathjax')"
   ]
  },
  {
   "cell_type": "code",
   "execution_count": null,
   "id": "3bb734b0",
   "metadata": {},
   "outputs": [],
   "source": [
    "q1, q2, q3 = me.dynamicsymbols('q1, q2, q3')\n",
    "u1, u2, u3 = me.dynamicsymbols('u1, u2, u3')\n",
    "la, lb, lc, ln = sm.symbols('l_a, l_b, l_c, l_n')\n",
    "m, g = sm.symbols('m, g')\n",
    "t = me.dynamicsymbols._t\n",
    "\n",
    "p = sm.Matrix([la, lb, lc, ln, m, g])\n",
    "\n",
    "q = sm.Matrix([q1])\n",
    "qr = sm.Matrix([q2, q3])\n",
    "qN = q.col_join(qr)\n",
    "\n",
    "u = sm.Matrix([u1])\n",
    "ur = sm.Matrix([u2, u3])\n",
    "uN = u.col_join(ur)\n",
    "\n",
    "qdN = qN.diff(t)\n",
    "ud = u.diff(t)\n",
    "\n",
    "p, q, qr, qN, u, ur, uN, qdN, ud"
   ]
  },
  {
   "cell_type": "code",
   "execution_count": null,
   "id": "6af7efd6",
   "metadata": {},
   "outputs": [],
   "source": [
    "N = me.ReferenceFrame('N')\n",
    "A = me.ReferenceFrame('A')\n",
    "B = me.ReferenceFrame('B')\n",
    "C = me.ReferenceFrame('C')\n",
    "\n",
    "A.orient_axis(N, q1, N.z)\n",
    "B.orient_axis(A, q2, A.z)\n",
    "C.orient_axis(B, q3, B.z)\n",
    "\n",
    "P1 = me.Point('P1')\n",
    "P2 = me.Point('P2')\n",
    "P3 = me.Point('P3')\n",
    "P4 = me.Point('P4')\n",
    "\n",
    "P2.set_pos(P1, la*A.x)\n",
    "P3.set_pos(P2, lb*B.x)\n",
    "P4.set_pos(P3, lc*C.x)"
   ]
  },
  {
   "cell_type": "code",
   "execution_count": null,
   "id": "99aea270",
   "metadata": {},
   "outputs": [],
   "source": [
    "loop = P4.pos_from(P1) - ln*N.x\n",
    "\n",
    "fh = sm.Matrix([loop.dot(N.x), loop.dot(N.y)])\n",
    "fh = sm.trigsimp(fh)\n",
    "fh"
   ]
  },
  {
   "cell_type": "code",
   "execution_count": null,
   "id": "db704dec",
   "metadata": {},
   "outputs": [],
   "source": [
    "fk = uN - qdN\n",
    "fk"
   ]
  },
  {
   "cell_type": "code",
   "execution_count": null,
   "id": "c5b3cfe1",
   "metadata": {},
   "outputs": [],
   "source": [
    "Mk = fk.jacobian(qdN)\n",
    "gk = uN\n",
    "qd_sol = -Mk.LUsolve(gk)\n",
    "qd_repl = dict(zip(qdN, qd_sol))\n",
    "qd_repl"
   ]
  },
  {
   "cell_type": "code",
   "execution_count": null,
   "id": "afdbc4b5",
   "metadata": {},
   "outputs": [],
   "source": [
    "fhd = fh.diff(t).xreplace(qd_repl)\n",
    "fhd"
   ]
  },
  {
   "cell_type": "code",
   "execution_count": null,
   "id": "69670941",
   "metadata": {},
   "outputs": [],
   "source": [
    "me.find_dynamicsymbols(fhd)"
   ]
  },
  {
   "cell_type": "code",
   "execution_count": null,
   "id": "3bbeb852",
   "metadata": {},
   "outputs": [],
   "source": [
    "Mhd = fhd.jacobian(ur)\n",
    "ur_zero = {uri: 0 for uri in ur}\n",
    "ghd = fhd.xreplace(ur_zero)\n",
    "ur_sol = -Mhd.LUsolve(ghd)\n",
    "ur_repl = dict(zip(ur, ur_sol))"
   ]
  },
  {
   "cell_type": "code",
   "execution_count": null,
   "id": "4bbe6e00",
   "metadata": {},
   "outputs": [],
   "source": [
    "ur_repl"
   ]
  },
  {
   "cell_type": "code",
   "execution_count": null,
   "id": "45fb538c",
   "metadata": {},
   "outputs": [],
   "source": [
    "A.set_ang_vel(N, u1*N.z)\n",
    "B.set_ang_vel(A, ur_repl[u2]*A.z)\n",
    "C.set_ang_vel(B, ur_repl[u3]*B.z)"
   ]
  },
  {
   "cell_type": "code",
   "execution_count": null,
   "id": "3255d5ff",
   "metadata": {},
   "outputs": [],
   "source": [
    "P1.set_vel(N, 0)\n",
    "P2.v2pt_theory(P1, N, A)\n",
    "P3.v2pt_theory(P2, N, B)\n",
    "P4.v2pt_theory(P3, N, C)"
   ]
  },
  {
   "cell_type": "code",
   "execution_count": null,
   "id": "0d6411d5",
   "metadata": {},
   "outputs": [],
   "source": [
    "me.find_dynamicsymbols(P4.vel(N), reference_frame=N)"
   ]
  },
  {
   "cell_type": "code",
   "execution_count": null,
   "id": "534f0cf6",
   "metadata": {},
   "outputs": [],
   "source": [
    "gk = gk.xreplace(ur_repl)"
   ]
  },
  {
   "cell_type": "code",
   "execution_count": null,
   "id": "79bb75b9",
   "metadata": {},
   "outputs": [],
   "source": [
    "me.find_dynamicsymbols(gk)"
   ]
  },
  {
   "cell_type": "code",
   "execution_count": null,
   "id": "19036e96",
   "metadata": {},
   "outputs": [],
   "source": [
    "R_P2 = -m*g*N.y\n",
    "R_P3 = -m*g*N.y"
   ]
  },
  {
   "cell_type": "code",
   "execution_count": null,
   "id": "7c036d25",
   "metadata": {},
   "outputs": [],
   "source": [
    "F1 = P2.vel(N).diff(u1, N).dot(R_P2) + P3.vel(N).diff(u1, N).dot(R_P3)\n",
    "F1"
   ]
  },
  {
   "cell_type": "code",
   "execution_count": null,
   "id": "ab8f40e5",
   "metadata": {},
   "outputs": [],
   "source": [
    "me.find_dynamicsymbols(P3.acc(N).xreplace(qd_repl).xreplace(ur_repl), reference_frame=N)"
   ]
  },
  {
   "cell_type": "code",
   "execution_count": null,
   "id": "53759741",
   "metadata": {},
   "outputs": [],
   "source": [
    "N_a_P2 = P2.acc(N).xreplace(qd_repl).xreplace(ur_repl)\n",
    "N_a_P3 = P3.acc(N).xreplace(qd_repl).xreplace(ur_repl)"
   ]
  },
  {
   "cell_type": "code",
   "execution_count": null,
   "id": "5897cd6d",
   "metadata": {},
   "outputs": [],
   "source": [
    "Rs_P2 = -m*N_a_P2\n",
    "Rs_P3 = -m*N_a_P3"
   ]
  },
  {
   "cell_type": "code",
   "execution_count": null,
   "id": "5541a782",
   "metadata": {},
   "outputs": [],
   "source": [
    "F1s = P2.vel(N).diff(u1, N).dot(Rs_P2) + P3.vel(N).diff(u1, N).dot(Rs_P3)"
   ]
  },
  {
   "cell_type": "code",
   "execution_count": null,
   "id": "f29e83fd",
   "metadata": {},
   "outputs": [],
   "source": [
    "me.find_dynamicsymbols(F1)"
   ]
  },
  {
   "cell_type": "code",
   "execution_count": null,
   "id": "b6d6b697",
   "metadata": {},
   "outputs": [],
   "source": [
    "me.find_dynamicsymbols(F1s)"
   ]
  },
  {
   "cell_type": "code",
   "execution_count": null,
   "id": "56938364",
   "metadata": {},
   "outputs": [],
   "source": [
    "fd = F1 + F1s"
   ]
  },
  {
   "cell_type": "code",
   "execution_count": null,
   "id": "06d2879f",
   "metadata": {},
   "outputs": [],
   "source": [
    "fh"
   ]
  },
  {
   "cell_type": "code",
   "execution_count": null,
   "id": "1588bd66",
   "metadata": {},
   "outputs": [],
   "source": [
    "fk.xreplace(ur_repl)"
   ]
  },
  {
   "cell_type": "code",
   "execution_count": null,
   "id": "c7e53ffb",
   "metadata": {},
   "outputs": [],
   "source": [
    "p_vals = np.array([\n",
    "    0.8,  # la [m]\n",
    "    2.0,  # lb [m]\n",
    "    1.0,  # lc [m]\n",
    "    2.0,  # ln [m]\n",
    "    1.0,  # m [kg]\n",
    "    9.81,  # g [m/s^2]\n",
    "])\n"
   ]
  },
  {
   "cell_type": "code",
   "execution_count": null,
   "id": "320fc0e6",
   "metadata": {},
   "outputs": [],
   "source": [
    "q1_0 = np.deg2rad(10.0)\n",
    "u1_0 = 0.0"
   ]
  },
  {
   "cell_type": "code",
   "execution_count": null,
   "id": "c139fd2a",
   "metadata": {},
   "outputs": [],
   "source": [
    "from scipy.optimize import fsolve"
   ]
  },
  {
   "cell_type": "code",
   "execution_count": null,
   "id": "9436efd5",
   "metadata": {},
   "outputs": [],
   "source": [
    "fsolve?"
   ]
  },
  {
   "cell_type": "code",
   "execution_count": null,
   "id": "e3d919f0",
   "metadata": {},
   "outputs": [],
   "source": [
    "eval_fh = sm.lambdify((qN, p), fh)"
   ]
  },
  {
   "cell_type": "code",
   "execution_count": null,
   "id": "abbe38ac",
   "metadata": {},
   "outputs": [],
   "source": [
    "eval_fh([1.0, 2.0, 3.0], p_vals)"
   ]
  },
  {
   "cell_type": "code",
   "execution_count": null,
   "id": "174ff4c6",
   "metadata": {},
   "outputs": [],
   "source": [
    "def fsolve_fh(qr, q1, p):\n",
    "    return np.squeeze(eval_fh(np.hstack((q1, qr)), p))"
   ]
  },
  {
   "cell_type": "code",
   "execution_count": null,
   "id": "62725195",
   "metadata": {},
   "outputs": [],
   "source": [
    "fsolve_fh([2.0, 3.0], 1.0, p_vals)"
   ]
  },
  {
   "cell_type": "code",
   "execution_count": null,
   "id": "97c502ee",
   "metadata": {},
   "outputs": [],
   "source": [
    "qr_guess = np.deg2rad([10.0, -150.0])"
   ]
  },
  {
   "cell_type": "code",
   "execution_count": null,
   "id": "b05a3cf7",
   "metadata": {},
   "outputs": [],
   "source": [
    "q2_0, q3_0 = fsolve(fsolve_fh, qr_guess, args=(q1_0, p_vals), xtol=1e-14)"
   ]
  },
  {
   "cell_type": "code",
   "execution_count": null,
   "id": "1b3d4c7f",
   "metadata": {},
   "outputs": [],
   "source": [
    "q1_0, q2_0, q3_0"
   ]
  },
  {
   "cell_type": "code",
   "execution_count": null,
   "id": "a9c173ed",
   "metadata": {},
   "outputs": [],
   "source": [
    "eval_fh([q1_0, q2_0, q3_0], p_vals)"
   ]
  },
  {
   "cell_type": "code",
   "execution_count": null,
   "id": "7b2837b1",
   "metadata": {},
   "outputs": [],
   "source": [
    "me.find_dynamicsymbols(fd)"
   ]
  },
  {
   "cell_type": "code",
   "execution_count": null,
   "id": "77dce715",
   "metadata": {},
   "outputs": [],
   "source": [
    "Md = fd.diff(u1.diff())\n",
    "gd = fd.xreplace({u1.diff(): 0})\n",
    "u1_sol = -gd/Md\n",
    "eval_u1 = sm.lambdify((u1, qN, p), u1_sol)"
   ]
  },
  {
   "cell_type": "code",
   "execution_count": null,
   "id": "a1ab8b6d",
   "metadata": {},
   "outputs": [],
   "source": [
    "u1d_0 = eval_u1(u1_0, [q1_0, q2_0, q3_0], p_vals)\n",
    "u1d_0"
   ]
  },
  {
   "cell_type": "code",
   "execution_count": null,
   "id": "a3bec8e6",
   "metadata": {},
   "outputs": [],
   "source": [
    "q1_0, q2_0, q3_0, u1_0, u1d_0"
   ]
  },
  {
   "cell_type": "code",
   "execution_count": null,
   "id": "b59cd16e",
   "metadata": {},
   "outputs": [],
   "source": [
    "from scikits.odes import dae"
   ]
  },
  {
   "cell_type": "code",
   "execution_count": null,
   "id": "73c5af1f",
   "metadata": {},
   "outputs": [],
   "source": [
    "dae?"
   ]
  },
  {
   "cell_type": "code",
   "execution_count": null,
   "id": "2df5fe4c",
   "metadata": {},
   "outputs": [],
   "source": [
    "u1d = sm.symbols('u1d')\n",
    "eval_fd = sm.lambdify((qN, u1, u1d, p), fd.xreplace({u1.diff(): u1d}))\n",
    "eval_fd([q1_0, q2_0, q3_0], 1.0, 3.0, p_vals)"
   ]
  },
  {
   "cell_type": "code",
   "execution_count": null,
   "id": "b9e30565",
   "metadata": {},
   "outputs": [],
   "source": [
    "eval_fh?"
   ]
  },
  {
   "cell_type": "code",
   "execution_count": null,
   "id": "06250576",
   "metadata": {},
   "outputs": [],
   "source": [
    "def eval_eom(t, x, xd, residual, p):\n",
    "    qN = x[:3]\n",
    "    u1 = x[3]\n",
    "    q1d = xd[0]\n",
    "    u1d = xd[3]\n",
    "    \n",
    "    residual[0:2] = eval_fh(qN, p).squeeze()  # shape(2,)\n",
    "    residual[2] = u1 - q1d  # shape(1,)\n",
    "    residual[3] = eval_fd(qN, u1, u1d, p).squeeze()  # shape(1,)"
   ]
  },
  {
   "cell_type": "code",
   "execution_count": null,
   "id": "bf22b9e1",
   "metadata": {},
   "outputs": [],
   "source": [
    "res = np.ones(4)\n",
    "res"
   ]
  },
  {
   "cell_type": "code",
   "execution_count": null,
   "id": "d3f01061",
   "metadata": {},
   "outputs": [],
   "source": [
    "eval_eom(1.0, # t\n",
    "         [q1_0, q2_0, q3_0, u1_0], # x: q1, q2, q3, u1\n",
    "         [0.0, 0.0, 0.0, u1d_0], # xd: q1d, q2q, q3d, u1d\n",
    "         res,\n",
    "         p_vals)"
   ]
  },
  {
   "cell_type": "code",
   "execution_count": null,
   "id": "f468667f",
   "metadata": {},
   "outputs": [],
   "source": [
    "res"
   ]
  },
  {
   "cell_type": "code",
   "execution_count": null,
   "id": "45df1056",
   "metadata": {},
   "outputs": [],
   "source": [
    "solver = dae('ida',  # which solver to use\n",
    "             eval_eom,\n",
    "             rtol=1e-10,\n",
    "             atol=1e-10,\n",
    "             algebraic_vars_idx=[0, 1],\n",
    "             user_data=p_vals,\n",
    "             old_api=False)  # gives us new output format"
   ]
  },
  {
   "cell_type": "code",
   "execution_count": null,
   "id": "8323759b",
   "metadata": {},
   "outputs": [],
   "source": [
    "x0 = np.array([q1_0, q2_0, q3_0, u1_0])\n",
    "xd0 = np.array([0.0, 0.0, 0.0, u1d_0])\n",
    "ts = np.linspace(0.0, 4.0, num=401)"
   ]
  },
  {
   "cell_type": "code",
   "execution_count": null,
   "id": "c951b38f",
   "metadata": {},
   "outputs": [],
   "source": [
    "solution = solver.solve(ts, x0, xd0)"
   ]
  },
  {
   "cell_type": "code",
   "execution_count": null,
   "id": "5d009733",
   "metadata": {},
   "outputs": [],
   "source": [
    "solution.values.y"
   ]
  },
  {
   "cell_type": "code",
   "execution_count": null,
   "id": "3f76cf7c",
   "metadata": {},
   "outputs": [],
   "source": [
    "fig, ax = plt.subplots()\n",
    "\n",
    "ax.plot(solution.values.t, solution.values.y)"
   ]
  },
  {
   "cell_type": "code",
   "execution_count": null,
   "id": "2cc41a71",
   "metadata": {},
   "outputs": [],
   "source": [
    "def eval_constraints(xs, p):\n",
    "    \"\"\"Returns the value of the left hand side of the holonomic constraints\n",
    "    at each time instance.\n",
    "\n",
    "    Parameters\n",
    "    ==========\n",
    "    xs : ndarray, shape(n, 4)\n",
    "        States at each of n time steps.\n",
    "    p : ndarray, shape(6,)\n",
    "        Constant parameters.\n",
    "\n",
    "    Returns\n",
    "    =======\n",
    "    con : ndarray, shape(n, 2)\n",
    "        fh evaluated at each xi in xs.\n",
    "\n",
    "    \"\"\"\n",
    "    con = []\n",
    "    for xi in xs:  # xs is shape(n, 4)\n",
    "        con.append(eval_fh(xi[:3], p).squeeze())\n",
    "    return np.array(con)"
   ]
  },
  {
   "cell_type": "code",
   "execution_count": null,
   "id": "ca660089",
   "metadata": {},
   "outputs": [],
   "source": [
    "con = eval_constraints(solution.values.y, p_vals)"
   ]
  },
  {
   "cell_type": "code",
   "execution_count": null,
   "id": "5b26a7fe",
   "metadata": {},
   "outputs": [],
   "source": [
    "def plot_results(ts, xs, con):\n",
    "    \"\"\"Returns the array of axes of a 4 panel plot of the state trajectory\n",
    "    versus time.\n",
    "\n",
    "    Parameters\n",
    "    ==========\n",
    "    ts : array_like, shape(n,)\n",
    "       Values of time.\n",
    "    xs : array_like, shape(n, 4)\n",
    "       Values of the state trajectories corresponding to ``ts`` in order\n",
    "       [q1, q2, q3, u1].\n",
    "    con : array_like, shape(n, 2)\n",
    "       x and y constraint residuals of P4 at each time in ``ts``.\n",
    "\n",
    "    Returns\n",
    "    =======\n",
    "    axes : ndarray, shape(3,)\n",
    "       Matplotlib axes for each panel.\n",
    "\n",
    "    \"\"\"\n",
    "    fig, axes = plt.subplots(3, 1, sharex=True)\n",
    "\n",
    "    fig.set_size_inches((10.0, 6.0))\n",
    "\n",
    "    axes[0].plot(ts, np.rad2deg(xs[:, :3]))  # q1(t), q2(t), q3(t)\n",
    "    axes[1].plot(ts, np.rad2deg(xs[:, 3]))  # u1(t)\n",
    "    axes[2].plot(ts, np.squeeze(con))  # fh(t)\n",
    "\n",
    "    axes[0].legend(['$q_1$', '$q_2$', '$q_3$'])\n",
    "    axes[1].legend(['$u_1$'])\n",
    "    axes[2].legend([r'$\\cdot\\hat{n}_x$', r'$\\cdot\\hat{n}_y$'])\n",
    "\n",
    "    axes[0].set_ylabel('Angle [deg]')\n",
    "    axes[1].set_ylabel('Angular Rate [deg/s]')\n",
    "    axes[2].set_ylabel('Distance [m]')\n",
    "    axes[2].set_xlabel('Time [s]')\n",
    "\n",
    "    fig.tight_layout()\n",
    "\n",
    "    return axes\n"
   ]
  },
  {
   "cell_type": "code",
   "execution_count": null,
   "id": "dc59d2cb",
   "metadata": {},
   "outputs": [],
   "source": [
    "plot_results(solution.values.t, solution.values.y, con)"
   ]
  },
  {
   "cell_type": "code",
   "execution_count": null,
   "id": "5796f807",
   "metadata": {},
   "outputs": [],
   "source": [
    "coordinates = P2.pos_from(P1).to_matrix(N)\n",
    "for point in [P3, P4, P1, P2]:\n",
    "    coordinates = coordinates.row_join(point.pos_from(P1).to_matrix(N))\n",
    "eval_point_coords = sm.lambdify((qN, p), coordinates)"
   ]
  },
  {
   "cell_type": "code",
   "execution_count": null,
   "id": "bf9e7893",
   "metadata": {},
   "outputs": [],
   "source": [
    "def setup_animation_plot(ts, xs, p):\n",
    "    \"\"\"Returns objects needed for the animation.\n",
    "\n",
    "    Parameters\n",
    "    ==========\n",
    "    ts : array_like, shape(n,)\n",
    "       Values of time.\n",
    "    xs : array_like, shape(n, 4)\n",
    "       Values of the state trajectories corresponding to ``ts`` in order\n",
    "       [q1, q2, q3, u1].\n",
    "    p : array_like, shape(6,)\n",
    "\n",
    "    \"\"\"\n",
    "\n",
    "    x, y, z = eval_point_coords(xs[0, :3], p)\n",
    "\n",
    "    fig, ax = plt.subplots()\n",
    "    fig.set_size_inches((10.0, 10.0))\n",
    "    ax.set_aspect('equal')\n",
    "    ax.grid()\n",
    "\n",
    "    lines, = ax.plot(x, y, color='black',\n",
    "                     marker='o', markerfacecolor='blue', markersize=10)\n",
    "\n",
    "    title_text = ax.set_title('Time = {:1.1f} s'.format(ts[0]))\n",
    "    ax.set_xlim((-1.0, 3.0))\n",
    "    ax.set_ylim((-1.0, 1.0))\n",
    "    ax.set_xlabel('$x$ [m]')\n",
    "    ax.set_ylabel('$y$ [m]')\n",
    "\n",
    "    return fig, ax, title_text, lines"
   ]
  },
  {
   "cell_type": "code",
   "execution_count": null,
   "id": "4d3635b8",
   "metadata": {},
   "outputs": [],
   "source": [
    "def animate_linkage(ts, xs, p):\n",
    "    \"\"\"Returns an animation object.\n",
    "\n",
    "    Parameters\n",
    "    ==========\n",
    "    ts : array_like, shape(n,)\n",
    "    xs : array_like, shape(n, 4)\n",
    "       x = [q1, q2, q3, u1]\n",
    "    p : array_like, shape(6,)\n",
    "       p = [la, lb, lc, ln, m, g]\n",
    "\n",
    "    \"\"\"\n",
    "    # setup the initial figure and axes\n",
    "    fig, ax, title_text, lines = setup_animation_plot(ts, xs, p)\n",
    "\n",
    "    # precalculate all of the point coordinates\n",
    "    coords = []\n",
    "    for xi in xs:\n",
    "        coords.append(eval_point_coords(xi[:3], p))\n",
    "    coords = np.array(coords)\n",
    "\n",
    "    # define the animation update function\n",
    "    def update(i):\n",
    "        title_text.set_text('Time = {:1.1f} s'.format(ts[i]))\n",
    "        lines.set_data(coords[i, 0, :], coords[i, 1, :])\n",
    "\n",
    "    # close figure to prevent premature display\n",
    "    plt.close()\n",
    "\n",
    "    # create and return the animation\n",
    "    return FuncAnimation(fig, update, len(ts))\n"
   ]
  },
  {
   "cell_type": "code",
   "execution_count": null,
   "id": "5e8c8906",
   "metadata": {},
   "outputs": [],
   "source": [
    "xs = solution.values.y\n",
    "fps = 100\n",
    "HTML(animate_linkage(ts, xs, p_vals).to_jshtml(fps=fps))"
   ]
  },
  {
   "cell_type": "code",
   "execution_count": null,
   "id": "a2884d9c",
   "metadata": {},
   "outputs": [],
   "source": []
  }
 ],
 "metadata": {
  "kernelspec": {
   "display_name": "Python 3 (ipykernel)",
   "language": "python",
   "name": "python3"
  },
  "language_info": {
   "codemirror_mode": {
    "name": "ipython",
    "version": 3
   },
   "file_extension": ".py",
   "mimetype": "text/x-python",
   "name": "python",
   "nbconvert_exporter": "python",
   "pygments_lexer": "ipython3",
   "version": "3.9.12"
  }
 },
 "nbformat": 4,
 "nbformat_minor": 5
}
