{
 "cells": [
  {
   "cell_type": "code",
   "execution_count": null,
   "id": "3681c1f6",
   "metadata": {},
   "outputs": [],
   "source": [
    "import sympy as sm\n",
    "import sympy.physics.mechanics as me\n",
    "me.init_vprinting()\n",
    "\n",
    "q1, q2, q3, q4, q5 = me.dynamicsymbols('q1, q2, q3, q4, q5')\n",
    "l = sm.symbols('l')\n",
    "\n",
    "N = me.ReferenceFrame('N')\n",
    "A = me.ReferenceFrame('A')\n",
    "B = me.ReferenceFrame('B')\n",
    "C = me.ReferenceFrame('C')\n",
    "\n",
    "A.orient_axis(N, q3, N.z)\n",
    "B.orient_axis(A, q4, A.z)\n",
    "C.orient_axis(A, q5, A.z)\n",
    "\n",
    "O = me.Point('O')\n",
    "Ao = me.Point('A_o')\n",
    "Bo = me.Point('B_o')\n",
    "Co = me.Point('C_o')\n",
    "\n",
    "Ao.set_pos(O, q1*N.x + q2*N.y)\n",
    "Bo.set_pos(Ao, l/2*A.x)\n",
    "Co.set_pos(Ao, -l/2*A.x)\n",
    "\n",
    "O.set_vel(N, 0)\n",
    "\n",
    "Bo.v2pt_theory(Ao, N, A)\n",
    "\n",
    "Co.v2pt_theory(Ao, N, A)\n",
    "\n",
    "u1, u2, u3, u4, u5 = me.dynamicsymbols('u1, u2, u3, u4, u5')"
   ]
  },
  {
   "cell_type": "code",
   "execution_count": null,
   "id": "0b02c211",
   "metadata": {},
   "outputs": [],
   "source": [
    "fk = sm.Matrix([\n",
    "    u1 - q1.diff(),\n",
    "    u2 - q2.diff(),\n",
    "    u3 - l*q3.diff()/2,\n",
    "    u4 - q4.diff(),\n",
    "    u5 - q5.diff(),\n",
    "])\n",
    "fk"
   ]
  },
  {
   "cell_type": "code",
   "execution_count": null,
   "id": "17c69238",
   "metadata": {},
   "outputs": [],
   "source": [
    "q = sm.Matrix([q1, q2, q3, q4, q5])\n",
    "qd = q.diff()\n",
    "qd"
   ]
  },
  {
   "cell_type": "code",
   "execution_count": null,
   "id": "83a9d22c",
   "metadata": {},
   "outputs": [],
   "source": [
    "Mk = fk.jacobian(qd)\n",
    "Mk"
   ]
  },
  {
   "cell_type": "code",
   "execution_count": null,
   "id": "23a4c032",
   "metadata": {},
   "outputs": [],
   "source": [
    "qd_zero = {qdi: 0 for qdi in qd}\n",
    "qd_zero"
   ]
  },
  {
   "cell_type": "code",
   "execution_count": null,
   "id": "b0671411",
   "metadata": {},
   "outputs": [],
   "source": [
    "gk = fk.xreplace(qd_zero)\n",
    "gk"
   ]
  },
  {
   "cell_type": "code",
   "execution_count": null,
   "id": "496056fa",
   "metadata": {},
   "outputs": [],
   "source": [
    "qd_sol = -Mk.LUsolve(gk)\n",
    "qd_sol"
   ]
  },
  {
   "cell_type": "code",
   "execution_count": null,
   "id": "6284d3ed",
   "metadata": {},
   "outputs": [],
   "source": [
    "qd_repl = dict(zip(qd, qd_sol))\n",
    "qd_repl"
   ]
  },
  {
   "cell_type": "code",
   "execution_count": null,
   "id": "7e1aac63",
   "metadata": {},
   "outputs": [],
   "source": [
    "fn = sm.Matrix([\n",
    "    Bo.vel(N).dot(B.y),\n",
    "    Co.vel(N).dot(C.y)\n",
    "])\n",
    "fn = sm.trigsimp(fn)\n",
    "fn"
   ]
  },
  {
   "cell_type": "code",
   "execution_count": null,
   "id": "c83e76a8",
   "metadata": {},
   "outputs": [],
   "source": [
    "fn = fn.xreplace(qd_repl)\n",
    "fn"
   ]
  },
  {
   "cell_type": "code",
   "execution_count": null,
   "id": "c297df26",
   "metadata": {},
   "outputs": [],
   "source": [
    "me.find_dynamicsymbols(fn)"
   ]
  },
  {
   "cell_type": "code",
   "execution_count": null,
   "id": "8d244ebf",
   "metadata": {},
   "outputs": [],
   "source": [
    "ur = sm.Matrix([u1, u2])  # dependent\n",
    "us = sm.Matrix([u3, u4, u5])  # independent"
   ]
  },
  {
   "cell_type": "code",
   "execution_count": null,
   "id": "373a6a2d",
   "metadata": {},
   "outputs": [],
   "source": [
    "Mn = fn.jacobian(ur)\n",
    "Mn"
   ]
  },
  {
   "cell_type": "code",
   "execution_count": null,
   "id": "81d26079",
   "metadata": {},
   "outputs": [],
   "source": [
    "ur_zero = {uri: 0 for uri in ur}\n",
    "ur_zero"
   ]
  },
  {
   "cell_type": "code",
   "execution_count": null,
   "id": "891fd357",
   "metadata": {},
   "outputs": [],
   "source": [
    "gn = fn.xreplace(ur_zero)\n",
    "gn"
   ]
  },
  {
   "cell_type": "code",
   "execution_count": null,
   "id": "99f061a8",
   "metadata": {},
   "outputs": [],
   "source": [
    "ur_sol = -Mn.LUsolve(gn)\n",
    "ur_sol = sm.trigsimp(ur_sol, method='fu')\n",
    "ur_sol"
   ]
  },
  {
   "cell_type": "code",
   "execution_count": null,
   "id": "05a48b18",
   "metadata": {},
   "outputs": [],
   "source": [
    "ur_repl = dict(zip(ur, ur_sol))\n",
    "ur_repl"
   ]
  },
  {
   "cell_type": "code",
   "execution_count": null,
   "id": "b2ef6b61",
   "metadata": {},
   "outputs": [],
   "source": [
    "Mk"
   ]
  },
  {
   "cell_type": "code",
   "execution_count": null,
   "id": "f54092f9",
   "metadata": {},
   "outputs": [],
   "source": [
    "gk = gk.xreplace(ur_repl)\n",
    "gk"
   ]
  },
  {
   "cell_type": "code",
   "execution_count": null,
   "id": "2b8741cc",
   "metadata": {},
   "outputs": [],
   "source": [
    "m, I = sm.symbols('m, I')"
   ]
  },
  {
   "cell_type": "code",
   "execution_count": null,
   "id": "d577d747",
   "metadata": {},
   "outputs": [],
   "source": [
    "N_v_Bo = Bo.vel(N).xreplace(qd_repl).xreplace(ur_repl)\n",
    "N_v_Bo"
   ]
  },
  {
   "cell_type": "code",
   "execution_count": null,
   "id": "741c2fc1",
   "metadata": {},
   "outputs": [],
   "source": [
    "N_v_Co = Co.vel(N).xreplace(qd_repl).xreplace(ur_repl)\n",
    "N_v_Co"
   ]
  },
  {
   "cell_type": "code",
   "execution_count": null,
   "id": "ec67f0e3",
   "metadata": {},
   "outputs": [],
   "source": [
    "N_w_B = B.ang_vel_in(N).xreplace(qd_repl).xreplace(ur_repl)\n",
    "N_w_B"
   ]
  },
  {
   "cell_type": "code",
   "execution_count": null,
   "id": "1bc6151a",
   "metadata": {},
   "outputs": [],
   "source": [
    "N_w_C = C.ang_vel_in(N).xreplace(qd_repl).xreplace(ur_repl)\n",
    "N_w_C"
   ]
  },
  {
   "cell_type": "code",
   "execution_count": null,
   "id": "231afdac",
   "metadata": {},
   "outputs": [],
   "source": [
    "v_Bo, v_Co, w_B, w_C = me.partial_velocity((N_v_Bo, N_v_Co, N_w_B, N_w_C),\n",
    "                                           (u3, u4, u5), N)"
   ]
  },
  {
   "cell_type": "code",
   "execution_count": null,
   "id": "7d71b742",
   "metadata": {},
   "outputs": [],
   "source": [
    "v_Bo"
   ]
  },
  {
   "cell_type": "code",
   "execution_count": null,
   "id": "72075eab",
   "metadata": {},
   "outputs": [],
   "source": [
    "v_Co"
   ]
  },
  {
   "cell_type": "code",
   "execution_count": null,
   "id": "2a569e07",
   "metadata": {},
   "outputs": [],
   "source": [
    "w_B"
   ]
  },
  {
   "cell_type": "code",
   "execution_count": null,
   "id": "d6acf791",
   "metadata": {},
   "outputs": [],
   "source": [
    "w_C"
   ]
  },
  {
   "cell_type": "code",
   "execution_count": null,
   "id": "50fc1ea7",
   "metadata": {},
   "outputs": [],
   "source": [
    "I_B_Bo = I*me.outer(N.z, N.z)\n",
    "I_C_Co = I_B_Bo"
   ]
  },
  {
   "cell_type": "code",
   "execution_count": null,
   "id": "2e7b37ce",
   "metadata": {},
   "outputs": [],
   "source": [
    "me.find_dynamicsymbols(N_v_Bo.dt(N), reference_frame=N)"
   ]
  },
  {
   "cell_type": "code",
   "execution_count": null,
   "id": "06dda77e",
   "metadata": {},
   "outputs": [],
   "source": [
    "N_a_Bo = N_v_Bo.dt(N).xreplace(qd_repl).xreplace(ur_repl)\n",
    "me.find_dynamicsymbols(N_a_Bo, reference_frame=N)"
   ]
  },
  {
   "cell_type": "code",
   "execution_count": null,
   "id": "b1284618",
   "metadata": {},
   "outputs": [],
   "source": [
    "N_a_Co = N_v_Co.dt(N).xreplace(qd_repl).xreplace(ur_repl)\n",
    "me.find_dynamicsymbols(N_a_Co, reference_frame=N)"
   ]
  },
  {
   "cell_type": "code",
   "execution_count": null,
   "id": "ac5f3ebf",
   "metadata": {},
   "outputs": [],
   "source": [
    "N_alp_B = N_w_B.dt(N).xreplace(qd_repl).xreplace(ur_repl)\n",
    "me.find_dynamicsymbols(N_alp_B, reference_frame=N)"
   ]
  },
  {
   "cell_type": "code",
   "execution_count": null,
   "id": "ff8b9eee",
   "metadata": {},
   "outputs": [],
   "source": [
    "N_alp_C = N_w_C.dt(N).xreplace(qd_repl).xreplace(ur_repl)\n",
    "me.find_dynamicsymbols(N_alp_C, reference_frame=N)"
   ]
  },
  {
   "cell_type": "code",
   "execution_count": null,
   "id": "22f0e854",
   "metadata": {},
   "outputs": [],
   "source": [
    "Rs_Bo = -m*N_a_Bo\n",
    "Rs_Co = -m*N_a_Co\n",
    "\n",
    "Ts_B = -I_B_Bo.dot(N_alp_B)\n",
    "Ts_C = -I_C_Co.dot(N_alp_C)"
   ]
  },
  {
   "cell_type": "code",
   "execution_count": null,
   "id": "c511289f",
   "metadata": {},
   "outputs": [],
   "source": [
    "F3s = (v_Bo[0].dot(Rs_Bo) + v_Co[0].dot(Rs_Co) +\n",
    "       w_B[0].dot(Ts_B) + w_C[0].dot(Ts_C))\n",
    "me.find_dynamicsymbols(F3s)"
   ]
  },
  {
   "cell_type": "code",
   "execution_count": null,
   "id": "6ee21a05",
   "metadata": {},
   "outputs": [],
   "source": [
    "F4s = (v_Bo[1].dot(Rs_Bo) + v_Co[1].dot(Rs_Co) +\n",
    "       w_B[1].dot(Ts_B) + w_C[1].dot(Ts_C))\n",
    "me.find_dynamicsymbols(F4s)"
   ]
  },
  {
   "cell_type": "code",
   "execution_count": null,
   "id": "73675ba5",
   "metadata": {},
   "outputs": [],
   "source": [
    "F5s = (v_Bo[2].dot(Rs_Bo) + v_Co[2].dot(Rs_Co) +\n",
    "       w_B[2].dot(Ts_B) + w_C[2].dot(Ts_C))\n",
    "me.find_dynamicsymbols(F5s)"
   ]
  },
  {
   "cell_type": "code",
   "execution_count": null,
   "id": "6ae71f93",
   "metadata": {},
   "outputs": [],
   "source": [
    "Frs = sm.Matrix([F3s, F4s, F5s])"
   ]
  },
  {
   "cell_type": "code",
   "execution_count": null,
   "id": "fe0b7956",
   "metadata": {},
   "outputs": [],
   "source": [
    "usd = us.diff()\n",
    "usd_zero = {usdi: 0 for usdi in usd}\n",
    "Md = Frs.jacobian(usd)\n",
    "gd = Frs.xreplace(usd_zero)"
   ]
  },
  {
   "cell_type": "code",
   "execution_count": null,
   "id": "1a353e41",
   "metadata": {},
   "outputs": [],
   "source": [
    "me.find_dynamicsymbols(Md)"
   ]
  },
  {
   "cell_type": "code",
   "execution_count": null,
   "id": "a3a97608",
   "metadata": {},
   "outputs": [],
   "source": [
    "me.find_dynamicsymbols(gd)"
   ]
  },
  {
   "cell_type": "code",
   "execution_count": null,
   "id": "62c736d9",
   "metadata": {},
   "outputs": [],
   "source": [
    "me.find_dynamicsymbols(Mk)"
   ]
  },
  {
   "cell_type": "code",
   "execution_count": null,
   "id": "aa4a687d",
   "metadata": {},
   "outputs": [],
   "source": [
    "me.find_dynamicsymbols(gk)"
   ]
  },
  {
   "cell_type": "code",
   "execution_count": null,
   "id": "730dbc3a",
   "metadata": {},
   "outputs": [],
   "source": [
    "Md.free_symbols"
   ]
  },
  {
   "cell_type": "code",
   "execution_count": null,
   "id": "9ce0a53f",
   "metadata": {},
   "outputs": [],
   "source": [
    "p = sm.Matrix([l, m, I])"
   ]
  },
  {
   "cell_type": "code",
   "execution_count": null,
   "id": "879f248b",
   "metadata": {},
   "outputs": [],
   "source": [
    "eval_kd = sm.lambdify((q, us, p), (Mk, gk, Md, gd))"
   ]
  },
  {
   "cell_type": "code",
   "execution_count": null,
   "id": "756749e9",
   "metadata": {},
   "outputs": [],
   "source": [
    "import numpy as np\n",
    "\n",
    "def eval_rhs(t, x, p):\n",
    "    q = x[:5]\n",
    "    us = x[5:]\n",
    "    \n",
    "    Mk, gk, Md, gd = eval_kd(q, us, p)\n",
    "    \n",
    "    qd = -np.linalg.solve(Mk, gk.squeeze())\n",
    "    usd = -np.linalg.solve(Md, gd.squeeze())\n",
    "    \n",
    "    return np.hstack((qd, usd))"
   ]
  },
  {
   "cell_type": "code",
   "execution_count": null,
   "id": "ccb8a81e",
   "metadata": {},
   "outputs": [],
   "source": [
    "x0 = np.array([\n",
    "    0.0,  # q1 [m]\n",
    "    0.0,  # q2 [m]\n",
    "    0.0,  # q3 [rad]\n",
    "    np.deg2rad(5.0),  # q4 [rad]\n",
    "    -np.deg2rad(3.0),  # q5 [rad]\n",
    "    0.2,  # u3 [m/s]\n",
    "    0.05,  # u4 [rad/s]\n",
    "    0.0,  # u5 [rad/s]\n",
    "])\n",
    "\n",
    "p_vals = np.array([\n",
    "    0.5,  # l [m]\n",
    "    2.0,  # m [kg]\n",
    "    0.5*0.1**2,  # I [kg*m^2]\n",
    "])"
   ]
  },
  {
   "cell_type": "code",
   "execution_count": null,
   "id": "79430977",
   "metadata": {},
   "outputs": [],
   "source": [
    "eval_rhs(0.3, x0, p_vals)"
   ]
  },
  {
   "cell_type": "code",
   "execution_count": null,
   "id": "c443930d",
   "metadata": {},
   "outputs": [],
   "source": [
    "from scipy.integrate import solve_ivp"
   ]
  },
  {
   "cell_type": "code",
   "execution_count": null,
   "id": "d4125d44",
   "metadata": {},
   "outputs": [],
   "source": [
    "t0, tf = 0.0, 5.0\n",
    "tspan = np.linspace(t0, tf, num=100)\n",
    "sol = solve_ivp(eval_rhs, (0.0, 5.0), x0, args=(p_vals,), t_eval=tspan)"
   ]
  },
  {
   "cell_type": "code",
   "execution_count": null,
   "id": "c4e65483",
   "metadata": {},
   "outputs": [],
   "source": [
    "import matplotlib.pyplot as plt"
   ]
  },
  {
   "cell_type": "code",
   "execution_count": null,
   "id": "7bb722a2",
   "metadata": {},
   "outputs": [],
   "source": [
    "%matplotlib notebook"
   ]
  },
  {
   "cell_type": "code",
   "execution_count": null,
   "id": "ca32112d",
   "metadata": {},
   "outputs": [],
   "source": [
    "fig, ax = plt.subplots()\n",
    "ax.plot(sol.t, sol.y[:2].T)"
   ]
  },
  {
   "cell_type": "code",
   "execution_count": null,
   "id": "95254761",
   "metadata": {},
   "outputs": [],
   "source": [
    "fig, ax = plt.subplots()\n",
    "ax.plot(sol.t, sol.y[2:5].T)"
   ]
  },
  {
   "cell_type": "code",
   "execution_count": null,
   "id": "24336918",
   "metadata": {},
   "outputs": [],
   "source": [
    "fig, ax = plt.subplots()\n",
    "ax.plot(sol.y[0], sol.y[1])\n",
    "ax.set_aspect('equal')"
   ]
  },
  {
   "cell_type": "code",
   "execution_count": null,
   "id": "0984d124",
   "metadata": {},
   "outputs": [],
   "source": []
  }
 ],
 "metadata": {
  "kernelspec": {
   "display_name": "Python 3 (ipykernel)",
   "language": "python",
   "name": "python3"
  },
  "language_info": {
   "codemirror_mode": {
    "name": "ipython",
    "version": 3
   },
   "file_extension": ".py",
   "mimetype": "text/x-python",
   "name": "python",
   "nbconvert_exporter": "python",
   "pygments_lexer": "ipython3",
   "version": "3.9.12"
  }
 },
 "nbformat": 4,
 "nbformat_minor": 5
}
